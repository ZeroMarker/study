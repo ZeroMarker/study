{
 "cells":[
  {
   "cell_type":"markdown",
   "source":[
    "# Probability"
   ],
   "attachments":{},
   "metadata":{
    "datalore":{
     "node_id":"Probability",
     "type":"MD",
     "hide_input_from_viewers":false,
     "hide_output_from_viewers":false,
     "sheet_delimiter":true
    }
   }
  },
  {
   "cell_type":"markdown",
   "source":[
    "[Intro to Hypothesis Testing in Statistics - Hypothesis Testing Statistics Problems & Examples](https:\/\/www.youtube.com\/watch?v=VK-rnA3-41c)\n",
    "\n",
    "[Statistics - A Full University Course on Data Science Basics](https:\/\/www.youtube.com\/watch?v=xxpc-HPKN28)"
   ],
   "attachments":{},
   "metadata":{
    "datalore":{
     "node_id":"hJ8pZ7Ucue0CBoPdJwsZ4K",
     "type":"MD",
     "hide_input_from_viewers":true,
     "hide_output_from_viewers":true
    }
   }
  },
  {
   "cell_type":"markdown",
   "source":[
    "[台大 - 機率（葉丙成）](https:\/\/www.bilibili.com\/video\/BV19W411n72c\/)"
   ],
   "attachments":{},
   "metadata":{
    "datalore":{
     "node_id":"9BWiwJUGD31ptG3txRhxXW",
     "type":"MD",
     "hide_input_from_viewers":true,
     "hide_output_from_viewers":true
    }
   }
  },
  {
   "cell_type":"markdown",
   "source":[
    "# Calculus"
   ],
   "attachments":{},
   "metadata":{
    "datalore":{
     "node_id":"Calculus",
     "type":"MD",
     "hide_input_from_viewers":false,
     "hide_output_from_viewers":false,
     "sheet_delimiter":true
    }
   }
  },
  {
   "cell_type":"markdown",
   "source":[
    "[[高等微積分] 第1講、數學的本質](https:\/\/www.youtube.com\/watch?v=yYEMYP8u0sc)\n",
    "\n",
    "[100 calculus limits (ft Riemann sum limits & epsilon-delta definition)](https:\/\/www.youtube.com\/watch?v=TglD4Y6lmQk)\n",
    "\n",
    "[100 derivatives, extreme calculus 1 tutorial](https:\/\/www.youtube.com\/watch?v=AegzQ_dip8k)\n",
    "\n",
    "[Calculus 1 - Full College Course](https:\/\/www.youtube.com\/watch?v=HfACrKJ_Y2w)\n",
    "\n",
    "[111S103 Calculus (2) (Kwok-Wing Tsoi)](https:\/\/www.youtube.com\/playlist?list=PLCX-BLZ1hDpDyJhcvZNaGcomSTAgfPfKC)\n",
    "\n",
    "[Single Variable Calculus](https:\/\/ocw.mit.edu\/courses\/18-01sc-single-variable-calculus-fall-2010\/pages\/syllabus\/)\n",
    "\n",
    "If $F(x)$ is an antiderivative of $f(x)$ on $[a, b]$, then the Newton-Leibniz formula is given by:\n",
    "\n",
    "$$\n",
    "\\int_{a}^{b} f(x) \\,dx = F(b) - F(a)\n",
    "$$"
   ],
   "attachments":{},
   "metadata":{
    "datalore":{
     "node_id":"rhcwdIRsQKCrOKRNa0I9Mq",
     "type":"MD",
     "hide_input_from_viewers":true,
     "hide_output_from_viewers":true
    }
   }
  },
  {
   "cell_type":"markdown",
   "source":[
    "[But what is the Fourier Transform? A visual introduction.](https:\/\/www.youtube.com\/watch?v=spUNpyF58BY)"
   ],
   "attachments":{},
   "metadata":{
    "datalore":{
     "node_id":"yi1dTqVVNTDosZk9keiDlL",
     "type":"MD",
     "hide_input_from_viewers":true,
     "hide_output_from_viewers":true
    }
   }
  },
  {
   "cell_type":"markdown",
   "source":[
    "[Taylor's Theorem - Introduction](https:\/\/www.youtube.com\/watch?v=_PyuMFBvj8g)\n",
    "\n",
    "[Proof of Taylor's Theorem from Real Analysis](https:\/\/www.youtube.com\/watch?v=kSSb9cn9vWk)\n",
    "\n",
    "[Taylor Series and Maclaurin Series - Calculus 2](https:\/\/www.youtube.com\/watch?v=LDBnS4c7YbA)\n",
    "\n",
    "\n",
    "$$\n",
    "T_n(x) = f(a) + \\frac{f'(a)}{1!}(x-a) + \\frac{f''(a)}{2!}(x-a)^2 + \\ldots + \\frac{f^{(n)}(a)}{n!}(x-a)^n\n",
    "$$"
   ],
   "attachments":{},
   "metadata":{
    "datalore":{
     "node_id":"RRXKQQhoud84pTZoD1mrYF",
     "type":"MD",
     "hide_input_from_viewers":true,
     "hide_output_from_viewers":true
    }
   }
  },
  {
   "cell_type":"markdown",
   "source":[
    "## 中值定理\n",
    "罗尔中值定理（英语：Rolle's theorem）\n",
    "\n",
    "如果函数 $f(x)$ 在闭区间 $[a, b]$ 上连续，在开区间 $(a, b)$ 内可微，并且 $f(a) = f(b)$，那么至少存在一个点 $c \\in (a, b)$，使得 $f'(c) = 0$。\n",
    "\n",
    "\n",
    "拉格朗日中值定理（Lagrange's Mean Value Theorem）\n",
    "\n",
    "如果函数 $f(x)$ 在闭区间 $[a, b]$ 上连续且在开区间 $(a, b)$ 内可微，则存在 $c \\in (a, b)$ 使得\n",
    "\n",
    "$$\n",
    "f'(c) = \\frac{f(b) - f(a)}{b - a}\n",
    "$$\n",
    "\n",
    "\n",
    "柯西中值定理（Cauchy's Mean Value Theorem）\n",
    "\n",
    "如果函数 $f(x)$ 和 $g(x)$ 在闭区间 $[a, b]$ 上连续且在开区间 $(a, b)$ 内可微，且 $g'(x) \\neq 0$，则存在 $c \\in (a, b)$ 使得\n",
    "\n",
    "$$\n",
    "\\frac{f'(c)}{g'(c)} = \\frac{f(b) - f(a)}{g(b) - g(a)}\n",
    "$$"
   ],
   "attachments":{},
   "metadata":{
    "datalore":{
     "node_id":"OSHNBadoUOiS2Cv0Zl2dC1",
     "type":"MD",
     "hide_input_from_viewers":true,
     "hide_output_from_viewers":true
    }
   }
  },
  {
   "cell_type":"markdown",
   "source":[
    "[ε-δ 定義證明題拿分攻略](https:\/\/www.youtube.com\/watch?v=kcY5EoRNGkU)\n",
    "\n",
    "[【大学数学】ε-δ論法(関数の連続性)【解析学】](https:\/\/www.youtube.com\/watch?v=t3JPms8Y1l4)"
   ],
   "attachments":{},
   "metadata":{
    "datalore":{
     "node_id":"FYizsvuxJtPbqEUUalBVhW",
     "type":"MD",
     "hide_input_from_viewers":true,
     "hide_output_from_viewers":true
    }
   }
  },
  {
   "cell_type":"markdown",
   "source":[
    "Stolz定理（Stolz's theorem）\n",
    "\n",
    "假设在某个区间内，数列 $(a_n)$ 和 $(b_n)$ 满足：\n",
    "\n",
    "1. 对于 $n$ 充分大的情况下， $b_n$ 严格递增。\n",
    "2. $\\lim_{n \\to \\infty} b_n = \\infty$。\n",
    "3. $\\lim_{n \\to \\infty} \\frac{a_{n+1} - a_n}{b_{n+1} - b_n} = L$（可以是一个实数或$\\infty$）。\n",
    "\n",
    "如果上述条件成立，那么有：\n",
    "\n",
    "$$\n",
    "\\lim_{n \\to \\infty} \\frac{a_n}{b_n} = L\n",
    "$$"
   ],
   "attachments":{},
   "metadata":{
    "datalore":{
     "node_id":"40UG5dC2K15dbqPhWQDxrH",
     "type":"MD",
     "hide_input_from_viewers":true,
     "hide_output_from_viewers":true
    }
   }
  },
  {
   "cell_type":"code",
   "source":[
    "洛必达法则\n",
    "如果在某个区间内，函数 $f(x)$ 和 $g(x)$ 都是可微的，且在某点 $c$ 处 $f(c) = g(c) = 0$ 或 $f(c) = g(c) = \\pm \\infty$，而且 $g'(x) \\neq 0$，那么如果极限\n",
    "\n",
    "$$\n",
    "\\lim_{{x \\to c}} \\frac{f'(x)}{g'(x)}\n",
    "$$\n",
    "\n",
    "存在或为无穷大，那么有\n",
    "\n",
    "$$\n",
    "\\lim_{{x \\to c}} \\frac{f(x)}{g(x)} = \\lim_{{x \\to c}} \\frac{f'(x)}{g'(x)}\n",
    "$$"
   ],
   "execution_count":null,
   "outputs":[],
   "metadata":{
    "datalore":{
     "node_id":"GwjgATirECfiHs5raVoKDE",
     "type":"SQL",
     "hide_input_from_viewers":true,
     "hide_output_from_viewers":true,
     "sql_cell_properties":{
      "variableName":"df_1",
      "sandboxMode":false
     }
    }
   }
  },
  {
   "cell_type":"markdown",
   "source":[
    "假设 $f$ 是从集合 $A$ 到集合 $B$ 的映射，可以表示为：\n",
    "\n",
    "$$\n",
    "f: A \\rightarrow B\n",
    "$$\n",
    "\n",
    "这表示 $f$ 将集合 $A$ 中的元素映射到集合 $B$ 中的元素。\n",
    "\n",
    "具体映射关系可以写成：\n",
    "\n",
    "$$\n",
    "f(x) \\mapsto y\n",
    "$$\n",
    "\n",
    "其中 $x$ 是 $A$ 的元素，$y$ 是 $B$ 的元素，且 $y$ 是由 $f$ 映射得到的。"
   ],
   "attachments":{},
   "metadata":{
    "datalore":{
     "node_id":"4VowgA7qj2eEkbkHkJm0QM",
     "type":"MD",
     "hide_input_from_viewers":true,
     "hide_output_from_viewers":true
    }
   }
  },
  {
   "cell_type":"markdown",
   "source":[
    "# Mathematical Analysis"
   ],
   "attachments":{},
   "metadata":{
    "datalore":{
     "node_id":"Mathematical Analysis",
     "type":"MD",
     "hide_input_from_viewers":false,
     "hide_output_from_viewers":false,
     "sheet_delimiter":true
    }
   }
  },
  {
   "cell_type":"markdown",
   "source":[
    "[高等微积分 baby rudin【上】](https:\/\/www.bilibili.com\/video\/BV1px411C7bL\/)\n",
    "\n",
    "[MIT 18.100A Real Analysis, Fall 2020](https:\/\/www.youtube.com\/playlist?list=PLUl4u3cNGP61O7HkcF7UImpM0cR_L2gSw)"
   ],
   "attachments":{},
   "metadata":{
    "datalore":{
     "node_id":"WwSW1M8inN5MFqO201y3uF",
     "type":"MD",
     "hide_input_from_viewers":true,
     "hide_output_from_viewers":true
    }
   }
  }
 ],
 "metadata":{
  "kernelspec":{
   "display_name":"Python",
   "language":"python",
   "name":"python"
  },
  "datalore":{
   "computation_mode":"JUPYTER",
   "package_manager":"pip",
   "base_environment":"default",
   "packages":[],
   "report_row_ids":[],
   "report_tabs":[],
   "version":4
  }
 },
 "nbformat":4,
 "nbformat_minor":4
}