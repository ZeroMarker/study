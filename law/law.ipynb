{
 "cells":[
  {
   "cell_type":"markdown",
   "source":[
    "# meta"
   ],
   "attachments":{},
   "metadata":{
    "datalore":{
     "node_id":"meta",
     "type":"MD",
     "hide_input_from_viewers":false,
     "hide_output_from_viewers":false,
     "sheet_delimiter":true
    }
   }
  },
  {
   "cell_type":"markdown",
   "source":[
    "[110S110 民法總則 (2021 版) (陳聰富)](https:\/\/www.youtube.com\/playlist?list=PLCX-BLZ1hDpBRkXl2EhFlKtejOOxms2Qw)\n",
    "\n",
    "[第一講：什麼是憲法—立憲主義精義（110學年度）➤〈進階憲法對話〉](https:\/\/www.youtube.com\/watch?v=zWy78sZKtKI)\n",
    "\n",
    "[110S108 憲法 (葉俊榮)](https:\/\/www.youtube.com\/playlist?list=PLCX-BLZ1hDpC7qQjyhoNhbkLxYFfLfLjg)\n",
    "\n",
    "[Constitutional Law (Fall 2019)](https:\/\/www.youtube.com\/playlist?list=PLMIM2V8Vm4Yp4HtTIgJwg1d9nzMgX1lQz)\n",
    "\n",
    "[Full Text of The Federalist Papers](https:\/\/guides.loc.gov\/federalist-papers\/full-text)\n",
    "\n",
    "[LII \/ Legal Information Institute, Cornell](https:\/\/www.law.cornell.edu\/)\n",
    "\n",
    "[United States Courts](https:\/\/www.uscourts.gov\/)\n",
    "\n",
    "[PACER](https:\/\/pacer.uscourts.gov\/)\n",
    "\n",
    "[Find Law](https:\/\/caselaw.findlaw.com\/)\n",
    "\n",
    "[How to find free Case Law](https:\/\/guides.loc.gov\/free-case-law\/introduction)\n",
    "\n",
    "[Court Listener](https:\/\/www.courtlistener.com\/)\n",
    "\n",
    "[CaseLaw](https:\/\/case.law\/)\n",
    "\n",
    "[Justia US Law](https:\/\/law.justia.com\/)\n",
    "\n",
    "[Supreme Court Insights](https:\/\/supreme.findlaw.com\/supreme-court-insights.html)"
   ],
   "attachments":{},
   "metadata":{
    "datalore":{
     "node_id":"W53MEjg7yPrDjHdGp4yCmq",
     "type":"MD",
     "hide_input_from_viewers":true,
     "hide_output_from_viewers":true
    }
   }
  },
  {
   "cell_type":"markdown",
   "source":[
    "民法法系（英语：Civil law），亦称欧陆法系、大陆法系、法典法系、市民法系、罗马法系或罗马－日耳曼法系，是以罗马法为基准，并与日耳曼习惯法、教会法、商法、封建法及其他习惯法结合而形成的法律体系，起源于欧洲大陆，与普通法系并列为当今世界上主要的两大法系之一，覆盖了当今世界的广大区域。1804年，拿破仑治下的法国发布《法国民法典》，1896年德国统一后又以此为蓝本，制定了《德国民法典》，这两部法典在民法法系内地位最为重要，影响甚广。"
   ],
   "attachments":{},
   "metadata":{
    "datalore":{
     "node_id":"cKmhnMeV3bheVzPEO9NpTf",
     "type":"MD",
     "hide_input_from_viewers":true,
     "hide_output_from_viewers":true
    }
   }
  },
  {
   "cell_type":"markdown",
   "source":[
    "英美法系（英语：common law），或称普通法系、英国法系或海洋法系，是与欧陆法系（又称大陆法系或罗马法系）齐名的两大法系之一，起源于中世纪的英格兰，目前世界人口的三分之一（约24亿人）生活在英美法司法管辖区或混合民法系统内，其中大部分来自英联邦国家。从法律渊源来看，英美法系的特点就是判例法，即反复参考判决先例，最终产生类似道德观念一般的普遍的、约定俗成的法律。"
   ],
   "attachments":{},
   "metadata":{
    "datalore":{
     "node_id":"plVruvr7vBar7tuSizqwvP",
     "type":"MD",
     "hide_input_from_viewers":true,
     "hide_output_from_viewers":true
    }
   }
  },
  {
   "cell_type":"markdown",
   "source":[
    "衡平法（英语：equity），在普通法系中，是指历史上普通法系的司法系统针对普通法的不足，而发展出的一系列法律原则。也译作公义、平衡法。"
   ],
   "attachments":{},
   "metadata":{
    "datalore":{
     "node_id":"il3ycJ8GJgGlWoF4UaUSJ4",
     "type":"MD",
     "hide_input_from_viewers":true,
     "hide_output_from_viewers":true
    }
   }
  },
  {
   "cell_type":"markdown",
   "source":[
    "# Constitution"
   ],
   "attachments":{},
   "metadata":{
    "datalore":{
     "node_id":"Constitution",
     "type":"MD",
     "hide_input_from_viewers":false,
     "hide_output_from_viewers":false,
     "sheet_delimiter":true
    }
   }
  },
  {
   "cell_type":"markdown",
   "source":[
    "宪法回避原则（Constitutional Avoidance Doctrine）是一种法律解释原则，主要用于司法审查过程中。该原则旨在避免法院直接判决涉及宪法问题的案件，除非这是唯一的选择。具体来说，法院在解释法律时，如果能够通过其他非宪法的解释来解决问题，就应当优先选择这种解释，而不是直接触及宪法问题。\n",
    "\n",
    "宪法回避原则有几个关键点：\n",
    "\n",
    "1. **避免宪法争议**：法院应尽量避免在可能存在的其他法律解释路径情况下直接判决宪法问题。这样可以减少宪法解释的频率，保持宪法的稳定性和权威性。\n",
    "\n",
    "2. **优先解释普通法律**：如果可以通过解释普通法律来解决争议，则应优先选择这种方式，而不首先考虑宪法问题。\n",
    "\n",
    "3. **最小化判决影响**：通过避免直接触及宪法问题，法院可以避免做出广泛、深远影响的判决，特别是在宪法问题上。\n",
    "\n",
    "4. **保持司法谦逊**：宪法回避原则体现了法院的自我约束和谦逊态度，尊重立法机关的权威，避免过度干预立法过程。\n",
    "\n",
    "该原则在美国法律体系中尤为重要，但在其他国家的法律体系中也有类似的应用。例如，在美国最高法院的判决中，经常会引用宪法回避原则，以避免不必要的宪法争议和解释。\n",
    "\n",
    "宪法回避原则的实施有助于维护司法体系的稳定，减少不必要的宪法争议，同时也体现了法院对其他法律解释路径的尊重和优先选择。"
   ],
   "attachments":{},
   "metadata":{
    "datalore":{
     "node_id":"1tHuMsb0KOlhPDw9VeVQkQ",
     "type":"MD",
     "hide_input_from_viewers":true,
     "hide_output_from_viewers":true
    }
   }
  },
  {
   "cell_type":"markdown",
   "source":[
    "合并原则（Incorporation Doctrine），是一种美国宪法的原则，指透过美国宪法第十四修正案“正当法律程序”条款，将最初仅对联邦有拘束力的《权利法案》 内容，同样对州产生拘束力的宪法原则。"
   ],
   "attachments":{},
   "metadata":{
    "datalore":{
     "node_id":"ydVSf0UAkytGs3BIKXPaRT",
     "type":"MD",
     "hide_input_from_viewers":true,
     "hide_output_from_viewers":true
    }
   }
  },
  {
   "cell_type":"markdown",
   "source":[
    "# case"
   ],
   "attachments":{},
   "metadata":{
    "datalore":{
     "node_id":"case",
     "type":"MD",
     "hide_input_from_viewers":false,
     "hide_output_from_viewers":false,
     "sheet_delimiter":true
    }
   }
  },
  {
   "cell_type":"markdown",
   "source":[
    "## Google v. Oracle\n",
    "\n",
    "[PDF](https:\/\/www.supremecourt.gov\/opinions\/20pdf\/18-956_d18f.pdf)"
   ],
   "attachments":{},
   "metadata":{
    "datalore":{
     "node_id":"VAOMiIV2LoEAHVcyUAA8HN",
     "type":"MD",
     "hide_input_from_viewers":true,
     "hide_output_from_viewers":true
    }
   }
  },
  {
   "cell_type":"markdown",
   "source":[
    "## Marbury v. Madison\n",
    "\n",
    "[Oyez](https:\/\/www.oyez.org\/cases\/1789-1850\/5us137)\n",
    "\n",
    "Marbury v. Madison was a landmark Supreme Court case decided in 1803. The case established the principle of judicial review, which gives the Supreme Court the power to strike down laws that it finds to be unconstitutional.\n",
    "The case involved William Marbury, who had been appointed as a justice of the peace by President John Adams in the final days of his presidency. Adams's secretary of state, John Marshall, who would later become the chief justice of the Supreme Court, had signed Marbury's commission but had not delivered it before Adams left office.\n",
    "When Thomas Jefferson became president, he refused to deliver Marbury's commission. Marbury sued Madison, Jefferson's secretary of state, seeking a writ of mandamus, which is a court order requiring a government official to perform a specific duty.\n",
    "The Supreme Court ruled in favor of Marbury, finding that he had a legal right to his commission. However, the Court also ruled that it could not issue a writ of mandamus to Madison because the Judiciary Act of 1789, which authorized the Court to issue such writs, was unconstitutional.\n",
    "In his opinion for the Court, Chief Justice Marshall reasoned that the Constitution is the supreme law of the land and that all other laws must be consistent with it. He also reasoned that the Supreme Court has the power to interpret the Constitution and to strike down laws that it finds to be unconstitutional.\n",
    "The principle of judicial review established in Marbury v. Madison is one of the most important principles in American constitutional law. It gives the Supreme Court the power to check the actions of the other branches of government and to ensure that all laws are consistent with the Constitution.\n",
    "Marbury v. Madison is a landmark case because it established the principle of judicial review, which is one of the cornerstones of American constitutional law. It also affirmed the Supreme Court's role as the ultimate arbiter of the Constitution. The case has been cited in thousands of subsequent cases, and it continues to be relevant today."
   ],
   "attachments":{},
   "metadata":{
    "datalore":{
     "node_id":"KH5UHnvt1Qq45bjjBpeIU0",
     "type":"MD",
     "hide_input_from_viewers":true,
     "hide_output_from_viewers":true
    }
   }
  },
  {
   "cell_type":"markdown",
   "source":[
    "[Oyez](https:\/\/www.oyez.org\/cases\/1965\/759)\n",
    "\n",
    "The Miranda warning is a type of notification customarily given by police to criminal suspects in police custody (or in a custodial interrogation) advising them of their right to silence and, in effect, protection from self-incrimination; that is, their right to refuse to answer questions or provide information to law enforcement or other officials. Named for the U.S. Supreme Court's 1966 decision Miranda v. Arizona, these rights are often referred to as Miranda rights.\n",
    "The Miranda warning is part of a preventive criminal procedure rule that law enforcement are required to administer to protect an individual who is in custody and subject to direct questioning or its functional equivalent from a violation of their Fifth Amendment right against compelled self-incrimination. In Miranda v. Arizona, the Supreme Court held that the admission of an elicited incriminating statement by a suspect not informed of these rights violates the Fifth Amendment and the Sixth Amendment right to counsel, through the incorporation of these rights into state law.\n",
    "The Miranda warning is typically given in the following format:\n",
    "\"You have the right to remain silent. Anything you say can and will be used against you in a court of law. You have the right to an attorney. If you cannot afford an attorney, one will be appointed for you. Do you understand these rights? With these rights in mind, do you wish to speak to me?\"\n",
    "The Miranda warning must be given before any custodial interrogation begins. A custodial interrogation is defined as any questioning that occurs after a person has been arrested or otherwise deprived of their freedom in a significant way.\n",
    "If a suspect is not given the Miranda warning before being interrogated, any incriminating statements they make may not be admissible in court. This is because the Fifth Amendment protects people from being forced to incriminate themselves.\n",
    "There are some exceptions to the Miranda rule. For example, the police do not need to give the Miranda warning if they are asking the suspect for their name, address, or date of birth. The police also do not need to give the Miranda warning if they are questioning the suspect about a crime that is not a felony.\n",
    "If you are ever arrested and questioned by the police, it is important to remember your Miranda rights. You have the right to remain silent and to have an attorney present during questioning. If you are unsure of your rights, you should ask the police to stop questioning you until you have had a chance to speak to an attorney."
   ],
   "attachments":{},
   "metadata":{
    "datalore":{
     "node_id":"rNOKlQeuKX5E4hIJJrgxZb",
     "type":"MD",
     "hide_input_from_viewers":true,
     "hide_output_from_viewers":true
    }
   }
  },
  {
   "cell_type":"markdown",
   "source":[
    "## New York Times Co. v. Sullivan\n",
    "\n",
    "[Oyez](https:\/\/www.oyez.org\/cases\/1963\/39)\n",
    "\n",
    "Actual malice is a legal term that refers to a state of mind in which someone publishes false information with knowledge that it is false or with reckless disregard for the truth. Actual malice is a high standard to meet, and it is required for public officials to win defamation lawsuits.\n",
    "The case of New York Times Co. v. Sullivan, 376 U.S. 254 (1964), established the actual malice standard for public officials in defamation cases. The case arose from the publication of an advertisement in the New York Times that contained false statements about the conduct of L.B. Sullivan, a commissioner in Montgomery, Alabama. Sullivan sued the Times for defamation, and a jury awarded him $500,000 in damages.\n",
    "The Supreme Court reversed the jury's verdict, holding that the Times could not be held liable for defamation unless Sullivan could prove that the Times had published the false statements with actual malice. The Court reasoned that the First Amendment protects the right to publish false information about public officials, even if that information is defamatory, unless the publisher acted with actual malice.\n",
    "The actual malice standard is a difficult burden for public officials to meet. To prove actual malice, a public official must show that the publisher of the false statements either knew that the statements were false or had a reckless disregard for the truth. This means that the public official must show that the publisher acted with a high degree of fault.\n",
    "The actual malice standard has been criticized by some who argue that it gives too much protection to the media. However, the Supreme Court has repeatedly reaffirmed the actual malice standard, holding that it is necessary to protect the First Amendment right to free speech.\n",
    "The actual malice standard is an important safeguard for freedom of the press. It ensures that the media can freely report on public affairs, even if that reporting is critical of public officials."
   ],
   "attachments":{},
   "metadata":{
    "datalore":{
     "node_id":"5H1vkSYxvH7YcYYY4tjabP",
     "type":"MD",
     "hide_input_from_viewers":true,
     "hide_output_from_viewers":true
    }
   }
  },
  {
   "cell_type":"markdown",
   "source":[
    "Dred Scott v. Sandford"
   ],
   "attachments":{},
   "metadata":{
    "datalore":{
     "node_id":"XTOw7c3uZGUkJISBxyyKPg",
     "type":"MD",
     "hide_input_from_viewers":true,
     "hide_output_from_viewers":true
    }
   }
  },
  {
   "cell_type":"markdown",
   "source":[
    "## R v Dudley and Stephens\n",
    "[wiki](https:\/\/zh.wikipedia.org\/zh-cn\/%E5%A5%B3%E7%8E%8B%E8%AF%89%E8%BE%BE%E5%BE%B7%E5%88%A9%E4%B8%8E%E6%96%AF%E8%92%82%E8%8A%AC%E6%96%AF%E6%A1%88)\n",
    "\n",
    "[Law Teacher](https:\/\/www.lawteacher.net\/cases\/r-v-dudley-and-stephens.php)"
   ],
   "attachments":{},
   "metadata":{
    "datalore":{
     "node_id":"8BD7iDiApeMQWSbc3duwaw",
     "type":"MD",
     "hide_input_from_viewers":true,
     "hide_output_from_viewers":true
    }
   }
  },
  {
   "cell_type":"markdown",
   "source":[
    "## Schenck v. United States\n",
    "[Oyez](https:\/\/www.oyez.org\/cases\/1900-1940\/249us47)\n",
    "\n",
    "Clear and present danger is a legal standard that is used to determine whether the government can restrict speech that is protected by the First Amendment. The standard was first articulated by Justice Oliver Wendell Holmes, Jr. in the case of Schenck v. United States, 249 U.S. 47 (1919).\n",
    "In Schenck, the defendant was convicted of violating the Espionage Act of 1917 by distributing leaflets that urged resistance to the draft during World War I. The Supreme Court upheld the conviction, holding that the government could restrict speech that created a \"clear and present danger\" of causing a \"serious substantive evil\" that the government had a right to prevent.\n",
    "The clear and present danger standard is a very high standard to meet. In order to restrict speech, the government must show that the speech is likely to cause an immediate and serious harm. The standard is designed to protect freedom of speech, even when the speech is controversial or unpopular.\n",
    "The clear and present danger standard has been used to strike down a number of government restrictions on speech, including laws that prohibited the advocacy of violence, the distribution of obscene materials, and the burning of the American flag.\n",
    "Here are some examples of speech that have been held to not create a clear and present danger:\n",
    "Criticizing the government\n",
    "Advocating for unpopular political views\n",
    "Expressing religious beliefs\n",
    "Engaging in symbolic protests\n",
    "In general, the Supreme Court has been reluctant to restrict speech under the clear and present danger standard. The Court has recognized that the First Amendment protects a wide range of speech, even speech that is offensive or harmful.\n",
    "The clear and present danger standard is an important safeguard for freedom of speech. It ensures that the government cannot restrict speech simply because it is controversial or unpopular."
   ],
   "attachments":{},
   "metadata":{
    "datalore":{
     "node_id":"jfgpHgGTFgTItnpigOdzaF",
     "type":"MD",
     "hide_input_from_viewers":true,
     "hide_output_from_viewers":true
    }
   }
  },
  {
   "cell_type":"markdown",
   "source":[
    "## United States v. Wong Kim Ark\n",
    "[Oyez](https:\/\/www.oyez.org\/cases\/1850-1900\/169us649)\n",
    "\n",
    "United States v. Wong Kim Ark was a landmark Supreme Court case decided in 1898. The case established the principle that all children born in the United States are citizens, regardless of the citizenship status of their parents.\n",
    "The case involved Wong Kim Ark, who was born in San Francisco to Chinese parents. Wong's parents were both Chinese citizens, but they had permanent residency in the United States. When Wong was 21 years old, he returned to China to visit his parents. When he tried to return to the United States, he was denied entry on the ground that he was not a citizen.\n",
    "Wong sued the government, arguing that he was a citizen because he was born in the United States. The Supreme Court ruled in favor of Wong, finding that the Citizenship Clause of the Fourteenth Amendment grants citizenship to all children born in the United States, regardless of the citizenship status of their parents.\n",
    "The Supreme Court's decision in Wong Kim Ark was a major victory for civil rights and for the principle of birthright citizenship. The decision has been cited in many subsequent cases, and it remains the law of the land today.\n",
    "Wong Kim Ark's case is a reminder that all people born in the United States are citizens, regardless of their race, ethnicity, or national origin. Birthright citizenship is one of the most fundamental rights in American democracy, and it is a right that should be protected for all Americans."
   ],
   "attachments":{},
   "metadata":{
    "datalore":{
     "node_id":"PshseDb189u49q8e6Eq6aU",
     "type":"MD",
     "hide_input_from_viewers":true,
     "hide_output_from_viewers":true
    }
   }
  },
  {
   "cell_type":"markdown",
   "source":[
    "## Vosburg v. Putney\n",
    "[wiki](https:\/\/en.wikipedia.org\/wiki\/Vosburg_v._Putney)\n",
    "\n",
    "The eggshell skull rule, also known as the thin skull rule, is a legal doctrine that states that a tortfeasor is liable for the full extent of the injuries caused to their victim, even if the victim is more susceptible to injury than a normal person. This means that the tortfeasor cannot escape liability by arguing that the victim's injuries were more severe than would have been expected for a normal person.\n",
    "The eggshell skull rule is based on the principle that the tortfeasor takes their victim as they find them. In other words, the tortfeasor is responsible for all of the consequences of their actions, even if those consequences are more severe than would have been expected for a normal person.\n",
    "The eggshell skull rule was first articulated in the case of Vosburg v. Putney, 86 Wis. 27 (1893). In that case, the defendant negligently struck the plaintiff in the head with a rock. The plaintiff suffered a concussion, which led to a latent mental condition. The plaintiff's mental condition eventually became so severe that he was unable to work.\n",
    "The defendant argued that he was not liable for the plaintiff's mental condition because it was a result of the plaintiff's latent mental condition. The court rejected this argument and held that the defendant was liable for the full extent of the plaintiff's injuries, even though those injuries were more severe than would have been expected for a normal person.\n",
    "The eggshell skull rule has been applied in a variety of cases, including cases involving physical injuries, emotional injuries, and economic losses. For example, the eggshell skull rule has been applied in cases where the victim has suffered a pre-existing medical condition that was aggravated by the defendant's negligence.\n",
    "The eggshell skull rule is an important legal doctrine that protects victims of negligence. It ensures that victims are compensated for the full extent of their injuries, even if those injuries are more severe than would have been expected for a normal person."
   ],
   "attachments":{},
   "metadata":{
    "datalore":{
     "node_id":"9JNP60M9oNODRlfUDc72zX",
     "type":"MD",
     "hide_input_from_viewers":true,
     "hide_output_from_viewers":true
    }
   }
  },
  {
   "cell_type":"markdown",
   "source":[
    "## Roe v. Wade\n",
    "[wiki](https:\/\/en.wikipedia.org\/wiki\/Roe_v._Wade)"
   ],
   "attachments":{},
   "metadata":{
    "datalore":{
     "node_id":"9fnLttRh9PODTtmAleYk5s",
     "type":"MD",
     "hide_input_from_viewers":true,
     "hide_output_from_viewers":true
    }
   }
  }
 ],
 "metadata":{
  "kernelspec":{
   "display_name":"Python",
   "language":"python",
   "name":"python"
  },
  "datalore":{
   "computation_mode":"JUPYTER",
   "package_manager":"pip",
   "base_environment":"default",
   "packages":[],
   "report_row_ids":[],
   "report_tabs":[],
   "version":4
  }
 },
 "nbformat":4,
 "nbformat_minor":4
}